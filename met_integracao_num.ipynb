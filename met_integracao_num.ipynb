{
  "nbformat": 4,
  "nbformat_minor": 0,
  "metadata": {
    "colab": {
      "name": "met_integracao_num.ipynb",
      "provenance": [],
      "authorship_tag": "ABX9TyNsKCG1Edz19XVFh4CKlzDP",
      "include_colab_link": true
    },
    "kernelspec": {
      "name": "python3",
      "display_name": "Python 3"
    },
    "language_info": {
      "name": "python"
    }
  },
  "cells": [
    {
      "cell_type": "markdown",
      "metadata": {
        "id": "view-in-github",
        "colab_type": "text"
      },
      "source": [
        "<a href=\"https://colab.research.google.com/github/VeroMaia222/Hello_World_Python/blob/master/met_integracao_num.ipynb\" target=\"_parent\"><img src=\"https://colab.research.google.com/assets/colab-badge.svg\" alt=\"Open In Colab\"/></a>"
      ]
    },
    {
      "cell_type": "markdown",
      "metadata": {
        "id": "mrbyhw9LjyWr"
      },
      "source": [
        "Método de Euler\n"
      ]
    },
    {
      "cell_type": "code",
      "metadata": {
        "id": "gwZGMW78jpy0"
      },
      "source": [
        "import matplotlib.pyplot as pl \n",
        "import numpy as np\n",
        "from matplotlib import rc\n",
        "\n",
        "#Padronizando as fontes dos plots\n",
        "pl.rcParams['font.family'] = ['serif']\n",
        "pl.rcParams['font.serif']  =['Times New Roman']\n",
        "rc('text',usetex = False) # Para não usar latex\n",
        "SMALL_SIZE = 14\n",
        "MEDIUM_SIZE = 18\n",
        "BIGGER_SIZE = 22\n",
        "pl.rc('font',size=SMALL_SIZE)\n",
        "pl.rc('axes',titlesize = SMALL_SIZE)\n",
        "pl.rc('axes',labelsize=MEDIUM_SIZE)\n",
        "pl.rc('xtick',labelsize=SMALL_SIZE)\n",
        "pl.rc('ytick',labelsize=SMALL_SIZE)\n",
        "pl.rc('legend',fontsize=SMALL_SIZE)\n",
        "pl.rc('figure',titlesize=BIGGER_SIZE)"
      ],
      "execution_count": 3,
      "outputs": []
    },
    {
      "cell_type": "code",
      "metadata": {
        "id": "aIvie51hmXD7"
      },
      "source": [
        "#INTEGRADOR DE EULER \n",
        "def Euler_Integration(a,t,x0):\n",
        "  x = np.zeros(len(t))     #pontos discretizados\n",
        "  xdot = np.zeros(len(t))#derivadas de x\n",
        "  #\n",
        "  #Condições Iniciais\n",
        "  x[0,] = x0\n",
        "  xdot[0,] = a*x0\n",
        "  dt = t[1]-t[0] #Intevalo de tempo delta t \n",
        "  #\n",
        "  for i in range (1,len(t)):\n",
        "    #x = xanterior + delta t * derivada anterior\n",
        "    x[i,] = x[i-1,] + dt*(a*x[i-1,]) \n",
        "    xdot[i,] = a*x[i,]\n",
        "    return (x,xdot)\n",
        "\n"
      ],
      "execution_count": 8,
      "outputs": []
    },
    {
      "cell_type": "code",
      "metadata": {
        "id": "psb-skUzm6U5"
      },
      "source": [
        "#Parametros\n",
        "#Parametros de amostragem\n",
        "#Tempo final  \n",
        "tf = 2\n",
        "#Numero de pontos da discretização\n",
        "Np  = 100\n",
        "#Vetor tempo \n",
        "t = np.linspace(0,tf,Np,endpoint = True)\n",
        "#\n",
        "#Numero de pontos da dis\n",
        "Np2 = 10\n",
        "t2 = np.linspace(0,tf,Np2,endpoint = True)\n",
        "#Parametros Fisicos\n",
        "a = -3  \n",
        "x0 = 1 # Condição inicial "
      ],
      "execution_count": 9,
      "outputs": []
    },
    {
      "cell_type": "code",
      "metadata": {
        "id": "6mJcrhG0pLH7"
      },
      "source": [
        "#Integrando para passo maior (Np = 100)\n",
        "x,xdot = Euler_Integration(a,t,x0)\n",
        "#\n",
        "#Integrando para passo menor (Np = 10)\n",
        "x2,xdot2 = Euler_Integration(a,t2,x0)\n",
        "#"
      ],
      "execution_count": 12,
      "outputs": []
    },
    {
      "cell_type": "code",
      "metadata": {
        "id": "IgEvQZ-UpsBa"
      },
      "source": [
        "#Cálculo Análitico \n",
        "x_ana = 1*np.exp(-3*t2)"
      ],
      "execution_count": 13,
      "outputs": []
    },
    {
      "cell_type": "code",
      "metadata": {
        "colab": {
          "base_uri": "https://localhost:8080/",
          "height": 310
        },
        "id": "lCz6XWytp1r7",
        "outputId": "3372eb63-b471-4d4f-8695-03fa94d93464"
      },
      "source": [
        "#Plotando as imagens \n",
        "pl.figure()\n",
        "pl.grid(b = None, which='major',axis='both')\n",
        "#Para t1 \n",
        "pl.plot(t,x,'b',label = r'$\\Delta t = 0.02s')\n",
        "#Para t2\n",
        "pl.plot(t2,x2,'--r',label=r'$\\Delta t = 0.2')\n",
        "#Para sol analitica \n",
        "pl.plot(t2,x2,'--r',label='Analytical Solution')\n",
        "pl.xlabel(r'$t$ [s]')\n",
        "pl.ylabel(r'$x$ [m]')\n",
        "pl.legend(loc='upper right')\n",
        "pl.show()\n",
        "#pl.savefig('FirstOrder.eps')"
      ],
      "execution_count": 16,
      "outputs": [
        {
          "output_type": "stream",
          "text": [
            "findfont: Font family ['serif'] not found. Falling back to DejaVu Sans.\n"
          ],
          "name": "stderr"
        },
        {
          "output_type": "display_data",
          "data": {
            "image/png": "[encoded data removed]",
            "text/plain": [
              "<Figure size 432x288 with 1 Axes>"
            ]
          },
          "metadata": {
            "tags": [],
            "needs_background": "light"
          }
        }
      ]
    }
  ]
}