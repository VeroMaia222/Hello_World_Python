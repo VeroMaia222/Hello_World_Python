{
 "cells": [
  {
   "cell_type": "markdown",
   "id": "e500b4e9-571f-4f3f-95ca-b76697e233d7",
   "metadata": {},
   "source": [
    "Código utilizado para análise de vibração mecânicas em uma barra tipo livre-engastada\n",
    "\n",
    "Alunos:\n",
    "Adler Armelini Furlan\n",
    "Felipe Bendinelli Murça\n",
    "Guilherme Siqueira de Aquino\n",
    "Lucas Cocate Almeida\n",
    "Veronica Maia Viana Marcial\n",
    "\n",
    "Feito a partir do código do Professor, Luis Gustavo Giacon Villani, disponibilizado em aula."
   ]
  },
  {
   "cell_type": "code",
   "execution_count": 4,
   "id": "59fe041b-6a05-4c35-abb3-89bc2c144ec1",
   "metadata": {},
   "outputs": [],
   "source": [
    "import matplotlib.pyplot as plt\n",
    "import numpy as np\n",
    "import scipy as sc\n",
    "import scipy.signal as signal"
   ]
  },
  {
   "cell_type": "code",
   "execution_count": 6,
   "id": "20751f46-137a-425d-a079-62ef2cd43cec",
   "metadata": {},
   "outputs": [],
   "source": [
    "#Parte para configurar os graficos \n",
    "plt.rcParams['font.family'] = ['serif']\n",
    "plt.rcParams['font.serif'] = ['Times New Roman']\n",
    "# pl.rcParams['font.size'] = 18\n",
    "plt.rc('text', usetex=False)\n",
    "plt.rcParams['figure.autolayout'] = True\n",
    "\n",
    "SMALL_SIZE = 14\n",
    "MEDIUM_SIZE = 18\n",
    "BIGGER_SIZE = 22\n",
    "\n",
    "plt.rc('font', size=SMALL_SIZE)  # controls default text sizes\n",
    "plt.rc('axes', titlesize=SMALL_SIZE)  # fontsize of the axes title\n",
    "plt.rc('axes', labelsize=MEDIUM_SIZE)  # fontsize of the x and y labels\n",
    "plt.rc('xtick', labelsize=SMALL_SIZE)  # fontsize of the tick labels\n",
    "plt.rc('ytick', labelsize=SMALL_SIZE)  # fontsize of the tick labels\n",
    "plt.rc('legend', fontsize=SMALL_SIZE)  # legend fontsize\n",
    "plt.rc('figure', titlesize=MEDIUM_SIZE)  # fontsize of the figure title\n",
    "np.random.seed(2021)"
   ]
  },
  {
   "cell_type": "code",
   "execution_count": 7,
   "id": "b0d6eba9-bc64-422c-b8d8-c421b59fadf5",
   "metadata": {},
   "outputs": [],
   "source": [
    "#Oscilador Linear \n",
    "# %% Integração usando método de Runge Kutta\n",
    "def Linear_oscillator(M, C, K, F_matrix, t, disp0, vel0):\n",
    "    # M: matriz  de massa do sistema\n",
    "    # c: matriz de amortecimento do sistema\n",
    "    # k: matriz de rigidez do sistema\n",
    "    # t: vetor tempo\n",
    "    # disp0: vetor deslocamento inicial\n",
    "    # vel0: vetor velocidade inicial\n",
    "    # F_matrix: matriz força aplicada\n",
    "    M_inv = np.linalg.inv(M)\n",
    "    disp = np.zeros((len(M), len(t)))\n",
    "    vel = np.zeros((len(M), len(t)))\n",
    "    acc = np.zeros((len(M), len(t)))\n",
    "    disp[:, 0] = disp0\n",
    "    vel[:, 0] = vel0\n",
    "    acc[:, 0] = np.matmul(M_inv, (F_matrix[:, 0] - np.matmul(C, vel[:, 0]) - np.matmul(K, disp[:, 0])))\n",
    "    dt = t[2] - t[1]\n",
    "    for i in range(1, len(t)):\n",
    "        k11 = dt * vel[:, i - 1]\n",
    "        k12 = np.matmul(M_inv, dt * (F_matrix[:, i - 1] - np.matmul(C, vel[:, i - 1]) - np.matmul(K, disp[:, i - 1])))\n",
    "\n",
    "        k21 = dt * (vel[:, i - 1] + k12 / 2)\n",
    "        k22 = np.matmul(M_inv, dt * (\n",
    "                    (F_matrix[:, i - 1] + F_matrix[:, i]) / 2 - np.matmul(C, (vel[:, i - 1] + k12 / 2)) - np.matmul(K, (\n",
    "                        disp[:, i - 1] + k11 / 2))))\n",
    "\n",
    "        k31 = dt * (vel[:, i - 1] + k22 / 2)\n",
    "        k32 = np.matmul(M_inv, dt * (\n",
    "                    (F_matrix[:, i - 1] + F_matrix[:, i]) / 2 - np.matmul(C, (vel[:, i - 1] + k22 / 2)) - np.matmul(K, (\n",
    "                        disp[:, i - 1] + k21 / 2))))\n",
    "\n",
    "        k41 = dt * (vel[:, i - 1] + k32)\n",
    "        k42 = np.matmul(M_inv, dt * (\n",
    "                    F_matrix[:, i] - np.matmul(C, (vel[:, i - 1] + k32)) - np.matmul(K, (disp[:, i - 1] + k31))))\n",
    "\n",
    "        disp[:, i] = disp[:, i - 1] + (1 / 6) * (k11 + 2 * k21 + 2 * k31 + k41)\n",
    "        vel[:, i] = vel[:, i - 1] + (1 / 6) * (k12 + 2 * k22 + 2 * k32 + k42)\n",
    "        acc[:, i] = np.matmul(M_inv, (F_matrix[:, i] - np.matmul(C, vel[:, i]) - np.matmul(K, disp[:, i])))\n",
    "    return (acc, vel, disp)"
   ]
  },
  {
   "cell_type": "code",
   "execution_count": 8,
   "id": "d0f951c9-e791-4215-84cb-41bb27aba283",
   "metadata": {},
   "outputs": [],
   "source": [
    "\"\"\"\n",
    "Caso a ser testado\n",
    "Caso 1 - 5 graus de liberdade\n",
    "Caso 2 - 10 graus de liberdade\n",
    "Caso 3 - 20 graus de liberdade\n",
    "Caso 4 - 40 graus de liberdade\n",
    "\"\"\"\n",
    "caso = 3 \n",
    "\"\"\"\n",
    "Caso uma força seja aplicada, \n",
    "insira 'y' e caso contrário 'n'\n",
    "\"\"\"\n",
    "forca_ap = 'n'\n",
    "\"\"\"\n",
    "Define o tipo de analise que se deseja fazer\n",
    "Análise dos modos de vibrar = 'modal'\n",
    "Análise da resposta sistema = 'response'\n",
    "Função de resposta em frequência = 'FRF'\n",
    "\"\"\"\n",
    "tipo_analise = 'response'\n"
   ]
  },
  {
   "cell_type": "code",
   "execution_count": 9,
   "id": "40350518-6a81-4d6e-8073-2bf32bb8c212",
   "metadata": {},
   "outputs": [],
   "source": [
    "#####\n",
    "rho = 2720         # Massa específica no SI [kg/m^3]\n",
    "w_viga = 0.0105    # Dimensões da seção transversal da viga\n",
    "t_viga = 0.007     # Dimensões da seção tranversal da viga\n",
    "E = 70*(10 ** 9)   # Módulo de elásticidade do material\n",
    "A = w_viga*t_viga  # Área da seção transversal\n",
    "L = 0.210          # Comprimento da viga\n"
   ]
  },
  {
   "cell_type": "code",
   "execution_count": 10,
   "id": "80608870-aaee-4843-9aa2-deaa5afc6b7e",
   "metadata": {},
   "outputs": [],
   "source": [
    "if caso == 1:\n",
    "    gdls =  5       # Número de graus de liberdade para o caso 1\n",
    "\n",
    "if caso == 2:\n",
    "    gdls = 10      # Número de graus de liberdade para o caso 2\n",
    "\n",
    "if caso == 3:\n",
    "    gdls = 20      # Número de graus de liberdade para o caso 3\n",
    "\n",
    "if caso == 4:      # Número de graus de liberdade para o caso 3\n",
    "    gdls = 40"
   ]
  },
  {
   "cell_type": "code",
   "execution_count": 11,
   "id": "91d7107f-1dd3-4a0b-b920-3aab0c95d5b0",
   "metadata": {},
   "outputs": [],
   "source": [
    "L_i = (L / gdls) # Dividindo a viga de acordo com os graus de liberdade"
   ]
  },
  {
   "cell_type": "code",
   "execution_count": 12,
   "id": "da7f2d77-30c3-4b15-bd91-956407ca53aa",
   "metadata": {},
   "outputs": [],
   "source": [
    "m_eq = (rho * w_viga * t_viga) * L_i # Massa calculada através dos parâmetros do sistema"
   ]
  },
  {
   "cell_type": "code",
   "execution_count": 13,
   "id": "d7e8dc9e-bcbd-4fb4-8455-0381c0b38b34",
   "metadata": {},
   "outputs": [],
   "source": [
    "k_eq = (E*A)/((L_i))"
   ]
  },
  {
   "cell_type": "code",
   "execution_count": 14,
   "id": "8a6dff95-c17a-4879-aae4-c0e0b0aa93c2",
   "metadata": {},
   "outputs": [],
   "source": [
    "k_last = (E*A)/((L_i/2))"
   ]
  },
  {
   "cell_type": "code",
   "execution_count": 15,
   "id": "a4856cd1-2e28-4138-81da-9065c6ce4f31",
   "metadata": {},
   "outputs": [],
   "source": [
    "M = np.zeros((gdls, gdls))"
   ]
  },
  {
   "cell_type": "code",
   "execution_count": 16,
   "id": "1658d028-544f-448f-ba59-2362c357cdf6",
   "metadata": {},
   "outputs": [],
   "source": [
    "# Preenche a matriz massa, o último elemento da diagonal tem metade do comprimento, logo metade da massa\n",
    "for i in range(0, gdls):\n",
    "    for j in range(0, gdls):\n",
    "        if (i == j) & (i !=(gdls - 1)):\n",
    "            M[i, j] = round(m_eq, 8)\n",
    "        elif (i == j) & (i == (gdls - 1)):\n",
    "            M[i,j] = round(m_eq/2, 8)\n",
    "        else:\n",
    "            M[i,j] = 0"
   ]
  },
  {
   "cell_type": "code",
   "execution_count": 17,
   "id": "75b28670-a77a-488a-a2f7-7303c786c58e",
   "metadata": {},
   "outputs": [],
   "source": [
    "# Preenche a matriz de rigidez\n",
    "K = np.zeros((gdls, gdls))\n",
    "for i in range(0, gdls):\n",
    "    for j in range(0, gdls):\n",
    "        if (i == j) and (i !=(gdls - 1)):\n",
    "            K[i, j] = 2*k_eq\n",
    "            K[(i + 1), j] = - k_eq\n",
    "            K[i, j+1] = - k_eq\n",
    "        elif (i == j) and (i == (gdls - 1)):\n",
    "            K[i, j] = k_last\n",
    "            K[(i - 1), j] = - k_last\n",
    "            K[i, (j - 1)] = - k_last\n",
    "            K[i - 1, j - 1] = k_last + k_eq"
   ]
  },
  {
   "cell_type": "code",
   "execution_count": 18,
   "id": "761c5bac-3606-4bcb-a94f-56f23e383582",
   "metadata": {},
   "outputs": [],
   "source": [
    "# Definição da matriz de amortecimento\n",
    "C = np.zeros((len(M), len(M)), dtype=np.float64)\n",
    "alpha = 0.00001 # Coeficientes da matriz proporcional\n",
    "beta = 0.000000001\n",
    "C = alpha*M + beta*K # Matriz proporcional"
   ]
  },
  {
   "cell_type": "code",
   "execution_count": 19,
   "id": "87c010d2-fd5e-4670-a379-d545987f2b02",
   "metadata": {},
   "outputs": [],
   "source": [
    "# Preenche a matriz de amortecimento\n",
    "for i in range(0, gdls):\n",
    "    for j in range(0, gdls):\n",
    "        C[i, j] = round(C[i, j], 8)"
   ]
  },
  {
   "cell_type": "code",
   "execution_count": 20,
   "id": "76f76463-1440-4905-a393-544c42340453",
   "metadata": {},
   "outputs": [],
   "source": [
    "# Definição de parâmetros\n",
    "Fs =  32768*2*2 *8* caso # Taxa de amostragem\n",
    "Np =  32768*2*2*2*caso # Número de pontos\n",
    "t = np.linspace(0, Np / Fs, Np, endpoint=False)  # Vetor tempo\n",
    "w = np.linspace(0, Fs / 2, int(Np / 2), endpoint=False)  # Vetor frequencia em Hz\n",
    "f = np.linspace(0, Fs, Np, endpoint=False)  # Com parte simetrica"
   ]
  },
  {
   "cell_type": "code",
   "execution_count": 21,
   "id": "60adab65-67d2-4bc6-a7fd-69d0eaccf251",
   "metadata": {},
   "outputs": [],
   "source": [
    "X0 = np.zeros((len(M),))  # condições iniciais deslocamento\n",
    "V0 = np.zeros((len(M),))  # condições iniciais velocidade"
   ]
  },
  {
   "cell_type": "code",
   "execution_count": 22,
   "id": "b8e7a901-99b6-43f2-8101-dcdd2948f347",
   "metadata": {},
   "outputs": [],
   "source": [
    "# Preenche a matriz força de acordo com a condição de contorno\n",
    "F_applied = np.zeros((len(M), len(t)))\n",
    "if forca_ap == 'y':\n",
    "    F0 = 500  # amplitude da força de impulso [N]\n",
    "    w_hz = Fs / 5;  # frequência central do impulso quanto mais rápido o impacto, maior essa frequência, melhor o resultado\n",
    "    T = 1 / w_hz;  # período central do impulso\n",
    "    Aux = round(Np / (2 * np.max(t) / T))  # pega apenas meio período da senoide\n",
    "    F_impulse = np.zeros((Np,))  # criar o vetor força apenas com 0\n",
    "    F_impulse[0:int(Aux)] = F0 * np.sin(2 * np.pi * w_hz * t[0:int(Aux)])  # cria o pulso (meio período de senóide)\n",
    "    F_applied[len(M) - 1, :] = F_impulse[:] # Insere o vetor de força na matriz de força aplicada"
   ]
  },
  {
   "cell_type": "code",
   "execution_count": 23,
   "id": "2d11752d-bf5d-4411-a90e-f2be3dfd6c90",
   "metadata": {},
   "outputs": [],
   "source": [
    "if forca_ap == 'n':\n",
    "    X0[len(M) - 1,] = 0.0005 # condição inicial apenas na massa n"
   ]
  },
  {
   "cell_type": "code",
   "execution_count": null,
   "id": "7b5ad997-ea23-4f63-8217-68c4520ca8e4",
   "metadata": {},
   "outputs": [],
   "source": [
    "if tipo_analise == 'FRF':\n",
    "    H = np.zeros((len(M),len(M),len(w)),dtype = 'complex_') # FRF analítico para o caso sem força aplicada\n",
    "    for n in range(0,len(w)):\n",
    "        H[:,:,n] = np.linalg.inv(K - M*((2*np.pi*w[n])**2) + complex(0,1)*C*2*np.pi*w[n])\n",
    "    # Pega os picos da FRF, que são as frequências naturais.\n",
    "    peaks_aux, _ = signal.find_peaks(H[0, 0, :])\n",
    "    #print(f'Frequências Naturais numéricas: {w[peaks_aux]} [primeiro elemento]')\n",
    "    peaks_aux, _ = signal.find_peaks(H[len(M) - 1, len(M) - 1, :])\n",
    "    #print(f'Frquências Naturais numéricas: {w[peaks_aux]},  [último elemento]')\n",
    "    # Plota a figura para FRF\n",
    "    plt.figure()\n",
    "    plt.grid(b=None, which='major', axis='both')\n",
    "    plt.semilogy(w, abs(H[0,  len(M) - 1, :]), 'r', label=f'FRF [{1},{len(M)}]')\n",
    "    plt.semilogy(w, abs(H[len(M) - 1, len(M) - 1, :]), 'c', label=f'FRF [{len(M) },{len(M) }]')\n",
    "    plt.grid(b=None, which='major', axis='both')\n",
    "    plt.xlim(0, 45000)\n",
    "    plt.xlabel('$\\omega$ [Hz]')\n",
    "    plt.ylabel('$H (\\omega)$ [m/N]')\n",
    "    plt.legend()\n",
    "    plt.show()"
   ]
  },
  {
   "cell_type": "code",
   "execution_count": null,
   "id": "01887afa-bc05-404a-9818-1d51538091bd",
   "metadata": {},
   "outputs": [
    {
     "name": "stdout",
     "output_type": "stream",
     "text": [
      "Resultado analítico: [ 6039.28162138 18117.84486414 30196.4081069  42274.97134966]\n",
      "Frequências Naturais (análise modal): [  6037.96184174  18082.12813332  30030.32919267  41816.53374165\n",
      "  53372.39506422  64627.48921888  75510.11406696  85948.36866129\n",
      "  95871.26239523 105209.69720767 113897.25768651 121870.80629977\n",
      " 129070.91720509 135442.20674599 153263.96354122 151694.48643193\n",
      " 149097.36523894 145498.97373904 140933.64576829 195622.68539344]\n"
     ]
    }
   ],
   "source": [
    " if tipo_analise == 'modal' or tipo_analise == 'response':\n",
    "\n",
    "    # ---------------- Análise Modal Analítica ----------------- #\n",
    "    n_freq = np.array([1, 2, 3, 4]) # Cria o vetor para as quatro primeiras frequências\n",
    "    c = np.sqrt(E / rho) # Constante utilizada na conta\n",
    "    wn_an = ((2 * n_freq - 1) * np.pi * c) / (2 * L) # Frequências naturais via análitica\n",
    "    print(f'Resultado analítico: {wn_an / (2 * np.pi)}')\n",
    "\n",
    "    x_pontos = np.linspace(L_i, L, gdls) # Cria os pontos para utilizar na análise modal análitica\n",
    "\n",
    "    modal = np.zeros((len(x_pontos), len(n_freq)))  # Cria uma matriz inicial\n",
    "\n",
    "    for i in range(0, len(n_freq)):\n",
    "        modal[:, i] = np.sin((2 * n_freq[i] - 1) * np.pi * x_pontos / (2 * L)) # Análise dos modos de vibrar análitica\n",
    "\n",
    "    # Normalizando os modos\n",
    "    for i in range(0, len(n_freq)):\n",
    "        modal[:, i] = modal[:, i] / np.linalg.norm(modal[:, i])\n",
    "    # -------------------------------------------------------------------------------- #\n",
    "\n",
    "\n",
    "    # ------------------------------ Análise Modal ----------------------------------- #\n",
    "    # Calcula a matriz M^(1/2)\n",
    "    M_aux = np.linalg.inv(M ** (1 / 2))\n",
    "    # Calcula a matriz K tiu\n",
    "    K_tiu = np.dot(M_aux, np.dot(K, M_aux))\n",
    "    # Resolve o problema de auto valor e auto vetor\n",
    "    a, b = np.linalg.eig(K_tiu)\n",
    "    # Calcula os modos as frequências naturais via análise modal\n",
    "    wn_modal = np.sqrt(a)\n",
    "    print(f'Frequências Naturais (análise modal): {wn_modal / 2 / np.pi}')\n",
    "    # Modos de vibrar na coordenada modal\n",
    "    v = np.zeros((len(M), len(M)))\n",
    "    for m in range(0, len(M)):\n",
    "        v[:, m] = b[:, m] / np.linalg.norm(b[:, m])  # normaliza\n",
    "    # Modos de vibrar na coordenada x\n",
    "    u = np.dot(M_aux, v)\n",
    "    for m in range(0, len(M)):\n",
    "        u[:, m] = u[:, m] / np.linalg.norm(u[:, m]) # normaliza\n",
    "    # Matriz auxiliarem para as transformações de coordenadas\n",
    "    P = v\n",
    "    S = np.dot(M_aux, P)\n",
    "    S_inv = np.dot(np.transpose(P), M ** (1 / 2))\n",
    "    # Calcula as condições iniciais em coordenadas modais\n",
    "    R0 = np.dot(S_inv, X0)  # deslocamentos iniciais\n",
    "    Rdot0 = np.dot(S_inv, V0)  # velocidades iniciais\n",
    "\n",
    "    zeta_i = alpha / (2 * wn_modal) + beta * (wn_modal) / 2 # Calcula o coeficiente de amortecimento\n",
    "    # Para o caso, como o amortecimento é sempre muito pequeno, zeta_i é sempre entre 0 e 1, o que implica em\n",
    "    # um sistema subamortecido. E as repostas das próximas etapas são coerentes.\n",
    "\n",
    "    wd = wn_modal * np.sqrt(1 - zeta_i ** 2) # Frequência amortecida\n",
    "\n",
    "    if tipo_analise == 'response':\n",
    "        acc, vel, disp = Linear_oscillator(M, C, K, F_applied, t, X0, V0)  # integração baseada no método numérico\n",
    "\n",
    "        if forca_ap == 'n':\n",
    "            r = np.zeros((len(M), len(t)))  # cria o vetor de zeros\n",
    "            for m in range(0, len(M)):\n",
    "                r[m, :] = np.exp(-zeta_i[m] * wn_modal[m] * t) * (\n",
    "                            R0[m] * np.cos(wd[m] * t) + ((Rdot0[m] + zeta_i[m] * R0[m] * wn_modal[m]) / wd[m]) * np.sin(\n",
    "                        wd[m] * t))\n",
    "\n",
    "        if forca_ap == 'y':\n",
    "            r = np.zeros((len(M), len(t)), dtype=complex)  # cria o vetor de zeros\n",
    "\n",
    "            r_freq = np.zeros((len(M), len(t)), dtype=complex)\n",
    "            f_iw = np.zeros((len(M), len(t)), dtype=complex)\n",
    "\n",
    "            B_aux = np.dot(np.identity(len(M)), F_applied)\n",
    "            f_i = np.dot(np.dot(np.transpose(P), M_aux), B_aux)\n",
    "\n",
    "            I = np.identity(len(M))\n",
    "            C_r = np.diag(2 * zeta_i * wn_modal)\n",
    "\n",
    "            K_r = np.diag(a)\n",
    "\n",
    "            H = np.zeros((len(M), len(M), len(w)), dtype='complex_')  # FRF analítico para o caso sem força aplicada\n",
    "            H_aux = np.zeros((len(M), len(M), 2 * len(w)), dtype='complex')\n",
    "\n",
    "            H = np.zeros((len(M), len(M), len(w)), dtype='complex_')  # FRF analítico para o caso sem força aplicada\n",
    "            for n in range(0, len(w)):\n",
    "                H[:, :, n] = np.linalg.inv(K_r - I * ((2 * np.pi * w[n]) ** 2) + complex(0, 1) * C_r * 2 * np.pi * w[n])\n",
    "\n",
    "            for m in range(0, len(M)):\n",
    "                H_aux[m, m, :] = np.concatenate(\n",
    "                    (H[m, m, :], H[m, m, :][Np // 2 - 1] * np.ones((1,)), np.conj(H[m, m, :][Np // 2:0:-1, ])))\n",
    "\n",
    "                f_iw[m, :] = sc.fft.fft(f_i[m, :])\n",
    "                r_freq[m, :] = np.multiply(H_aux[m, m, :], f_iw[m, :])\n",
    "                r[m, :] = sc.fft.ifft(r_freq[m, :])\n",
    "\n",
    "        x_resp = np.dot(S, r)\n",
    "\n",
    "        plt.figure()\n",
    "        plt.grid(b=None, which='major', axis='both')\n",
    "        plt.plot(t, disp[3, :], '-b', label='Resposta numérica')\n",
    "        plt.plot(t, x_resp[3, :], '--k', label='Resposta modal')\n",
    "        plt.xlabel('$t$ [s]')\n",
    "        plt.ylabel(f'$x_{1}(t)$ [m]')\n",
    "        plt.xlim(0, np.max(t))\n",
    "        # plt.ylim(-1*10**(-5), 1*10**(-5))\n",
    "        plt.legend()\n",
    "        plt.show()\n",
    "\n",
    "    else:\n",
    "        massas = np.linspace(1, gdls, gdls)\n",
    "        mass_aux = np.linspace(2, gdls, 20)\n",
    "        for i in range(0, 4):\n",
    "            plt.figure()\n",
    "            plt.xlabel('Massas')\n",
    "            plt.plot(massas, modal[:, i], '-ob', label='Analítico')\n",
    "            plt.plot(massas, u[:, i], '-or', label='Modal Numérico')\n",
    "            horiz_line_data = np.linspace(1, gdls, gdls)\n",
    "            plt.ylim(-0.8, 0.8)\n",
    "            plt.axhline(y=0, color='k', linestyle='--')\n",
    "            plt.legend()\n",
    "            plt.xticks(mass_aux)\n",
    "            pl.show()\n",
    "    #--------------------------------------------------------------------------------- #\n"
   ]
  },
  {
   "cell_type": "code",
   "execution_count": null,
   "id": "7d97536c-a898-428a-b44a-789f30f40673",
   "metadata": {},
   "outputs": [],
   "source": []
  }
 ],
 "metadata": {
  "kernelspec": {
   "display_name": "Python 3",
   "language": "python",
   "name": "python3"
  },
  "language_info": {
   "codemirror_mode": {
    "name": "ipython",
    "version": 3
   },
   "file_extension": ".py",
   "mimetype": "text/x-python",
   "name": "python",
   "nbconvert_exporter": "python",
   "pygments_lexer": "ipython3",
   "version": "3.8.8"
  }
 },
 "nbformat": 4,
 "nbformat_minor": 5
}
