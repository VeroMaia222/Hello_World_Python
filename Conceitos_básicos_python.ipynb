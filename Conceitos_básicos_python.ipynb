{
  "nbformat": 4,
  "nbformat_minor": 0,
  "metadata": {
    "colab": {
      "name": "Conceitos básicos python ",
      "provenance": [],
      "toc_visible": true,
      "authorship_tag": "ABX9TyPoBZfkEK9nMVLhbMy4hgPW",
      "include_colab_link": true
    },
    "kernelspec": {
      "name": "python3",
      "display_name": "Python 3"
    }
  },
  "cells": [
    {
      "cell_type": "markdown",
      "metadata": {
        "id": "view-in-github",
        "colab_type": "text"
      },
      "source": [
        "<a href=\"https://colab.research.google.com/github/VeroMaia222/hello_world/blob/master/Conceitos_b%C3%A1sicos_python.ipynb\" target=\"_parent\"><img src=\"https://colab.research.google.com/assets/colab-badge.svg\" alt=\"Open In Colab\"/></a>"
      ]
    },
    {
      "cell_type": "markdown",
      "metadata": {
        "id": "AiWFBfevk1Ye",
        "colab_type": "text"
      },
      "source": [
        "# PRIMEIRO CÓDIGO\n"
      ]
    },
    {
      "cell_type": "markdown",
      "metadata": {
        "id": "6HrpL0BfAxg0",
        "colab_type": "text"
      },
      "source": [
        "\n",
        "**Esse é meu primeiro código**\n",
        "( Vá em *File* >> *Save a copy in drive*.\n",
        "Depois de salvo: *File* >> *Locate in Drive* e edite até aprender, inclua seus próprios códigos etc)\n"
      ]
    },
    {
      "cell_type": "code",
      "metadata": {
        "id": "BmizZ9RPAs9Y",
        "colab_type": "code",
        "colab": {}
      },
      "source": [
        "#Você pode comentar o seu código  usando \"#\"\n",
        "'''\n",
        "Assim é um comentário em blocao\n",
        "usando 3 aspas simples \n",
        "'''\n"
      ],
      "execution_count": 0,
      "outputs": []
    },
    {
      "cell_type": "markdown",
      "metadata": {
        "id": "GydDdnrXDa6t",
        "colab_type": "text"
      },
      "source": [
        "A função mais básica em toda biblioteca é o \"print\". \n",
        "Ele te retorna um valor \"impresso\" na tela. Isso é usado para **saída de dados**.\n",
        "Vamos tentar com o famoso HELLO WORLD.\n",
        "\n",
        "\n",
        "---\n",
        "\n",
        "\n"
      ]
    },
    {
      "cell_type": "code",
      "metadata": {
        "id": "0JZyrEPUDywX",
        "colab_type": "code",
        "outputId": "5d6d0070-3003-4bb5-de6d-b0e3dff9a022",
        "colab": {
          "base_uri": "https://localhost:8080/",
          "height": 34
        }
      },
      "source": [
        "print (\"Hello World\") \n",
        "# observe a necessidade dos parenteses,toda função precisa.\n",
        "# observe o uso das aspas para retornar exatamente a frase colocada \n",
        "# agora escreva o que quiser :)"
      ],
      "execution_count": 0,
      "outputs": [
        {
          "output_type": "stream",
          "text": [
            "Hello World\n"
          ],
          "name": "stdout"
        }
      ]
    },
    {
      "cell_type": "code",
      "metadata": {
        "id": "BEq6pF9BEcYp",
        "colab_type": "code",
        "outputId": "add1ecec-f395-420f-dd94-ff94b2af7ff7",
        "colab": {
          "base_uri": "https://localhost:8080/",
          "height": 85
        }
      },
      "source": [
        "#Podemos declarar variáveis e constantes e imprimir o valor delas \n",
        "auxiliar = 3 \n",
        "print (\"1º comando :\",\"auxiliar\")\n",
        "print (\"2º comando :\",auxiliar)\n",
        "print (\"3º comando :\",\"auxiliar =\", auxiliar)\n",
        "#Rode o código e observe a diferença entre os resultados\n",
        "# mude os valores e tente sozinho\n",
        "\n",
        "#podemos pedir o tipo da variável\n",
        "print(\"Tipo é :\",type(auxiliar))"
      ],
      "execution_count": 0,
      "outputs": [
        {
          "output_type": "stream",
          "text": [
            "1º comando : auxiliar\n",
            "2º comando : 3\n",
            "3º comando : auxiliar = 3\n",
            "Tipo é : <class 'int'>\n"
          ],
          "name": "stdout"
        }
      ]
    },
    {
      "cell_type": "markdown",
      "metadata": {
        "id": "M46xYWB2Ihrh",
        "colab_type": "text"
      },
      "source": [
        "#**VARIÁVEL E TIPO DE DADOS:**\n",
        "Uma variável é uma etiqueta, sempre que declaramos uma variável ou uma constante, pegamos um pedaço da memória, guardamos um valor nela e colocamos uma etiqueta, que é o nome da variável.\n",
        "Cada variável tem um tipo, quando trabalhamos em python estamos usando uma linguagem DINÂMICA, isso é,  podemos mudar o tipo que é armazenado numa variável.\n"
      ]
    },
    {
      "cell_type": "code",
      "metadata": {
        "id": "23O79evgJlOu",
        "colab_type": "code",
        "outputId": "d2a39455-2b5f-4bc3-83b5-1b1485cb8a44",
        "colab": {
          "base_uri": "https://localhost:8080/",
          "height": 136
        }
      },
      "source": [
        "aux = 3 # 3 é um inteiro então será armazenado como inteiro\n",
        "print(type(aux))\n",
        "\n",
        "aux = 3.14 # é um numero real, então será armazenado como ponto flutuante, ou float\n",
        "print(type(aux)) # aqui mudamos o tipo da variável dentro do programa, só possível em linguagens dinâmicas\n",
        "\n",
        "aux = 'python é amor' # aqui declaramos uma cadeia de caracteres ou string, ou str\n",
        "print(type(aux))\n",
        "print(len(aux)) \n",
        "'''\n",
        "Diferente da função type, a função len precisa ser impressa.\n",
        "Essa função indica o número de elementos de uma string ou lista\n",
        "'''\n",
        "\n",
        "\n",
        "aux = True # booleana - true or false \n",
        "type(aux) # podemos usar assim também\n",
        "\n",
        "#ENTRADA DE DADOS \n",
        "nome = str(input(\"Coloque seu nome aqui,por favor!\"))\n",
        "print(\"Seu nome tem\" , len(nome), \"letras\")\n"
      ],
      "execution_count": 0,
      "outputs": [
        {
          "output_type": "stream",
          "text": [
            "<class 'int'>\n",
            "<class 'float'>\n",
            "<class 'str'>\n",
            "13\n",
            "ERROR! Session/line number was not unique in database. History logging moved to new session 73\n",
            "Coloque seu nome aqui,por favor!Veronica Maia\n",
            "Seu nome tem 13 letras\n"
          ],
          "name": "stdout"
        }
      ]
    },
    {
      "cell_type": "markdown",
      "metadata": {
        "id": "QodIvuZbNfgV",
        "colab_type": "text"
      },
      "source": [
        "#**LISTAS:**\n",
        "É um conjunto de valores / objetos. Uma lista pode ter objetos de diferentes tipo. Uma variável pode ser associada a uma lista.\n",
        "Podemos acessar itens na lista, pois cada item é associado a um indice, sendo o primeiro item de indice ZERO. \n",
        "Podemos criar listas aninhadas \"nested\", ou seja sublistas.Cada sublista conta como um elemento da lista.\n"
      ]
    },
    {
      "cell_type": "code",
      "metadata": {
        "id": "efOERJOLUeHu",
        "colab_type": "code",
        "outputId": "01563551-6b19-4924-fe54-27b0fd98f9e0",
        "colab": {
          "base_uri": "https://localhost:8080/",
          "height": 153
        }
      },
      "source": [
        "# Declarando uma lista usa []\n",
        "minha_lista = [] # lista vazia\n",
        "\n",
        "# Listas são mutaveis\n",
        "minha_lista.append (3) # Funçao .append() anexa só 1 termo no final da lista \n",
        "print(\"Nova lista é :\",minha_lista)\n",
        "minha_lista.insert(0,\"quarentena\") #definimos a posição de adição .insert(indice,valor)\n",
        "print(\"Nova lista é :\",minha_lista)\n",
        "\n",
        "# Adicionando varios elementos \n",
        "lista_aux = [10,46,\"vinte\"] \n",
        "minha_lista.extend(lista_aux) # o .extend varre o objeto e coloca seus elementos na lista \n",
        "print(\"Nova lista é :\",minha_lista)\n",
        "\n",
        "# Adicionando sublista \n",
        "lista_aux=[\"quant\" , \"finance\"]\n",
        "minha_lista.append(lista_aux) \n",
        "'''\n",
        ".append coloca o elemento por completo,logo gerou uma sublista\n",
        "podemos criar a sublista quando declaramos apenas inserindo [] e separando por virgulas como qualquer elemento\n",
        "'''\n",
        "print(\"Nova lista é :\",minha_lista)\n",
        "\n",
        "# Acessando elementos \n",
        "print(\"Termo na posição zero é :\",minha_lista[0]) #printou primeiro termo que é a posição 0\n",
        "# [1º termo : Parada : Passo] \n",
        "print(\"Multiplos termos da lista \" , minha_lista[0:3]) # printou da posi 0 a posiçao 2, pois a posiçao 3 define parada\n",
        "lista_aux = minha_lista [0:-1:2] #criterio de parada é o ultimo termo = -1 ou =5\n",
        "print(\"Lista nova\" , lista_aux)\n",
        "print(\"Sublista\",minha_lista[5])\n",
        "\n",
        "#Crie sua lista e mexa com os comandos, mude a ordem de acesso, mude os conteudos etc\n",
        "\n"
      ],
      "execution_count": 0,
      "outputs": [
        {
          "output_type": "stream",
          "text": [
            "Nova lista é : [3]\n",
            "Nova lista é : ['quarentena', 3]\n",
            "Nova lista é : ['quarentena', 3, 10, 46, 'vinte']\n",
            "Nova lista é : ['quarentena', 3, 10, 46, 'vinte', ['quant', 'finance']]\n",
            "Termo na posição zero é : quarentena\n",
            "Multiplos termos da lista  ['quarentena', 3, 10]\n",
            "Lista nova ['quarentena', 10, 'vinte']\n",
            "Sublista ['quant', 'finance']\n"
          ],
          "name": "stdout"
        }
      ]
    },
    {
      "cell_type": "markdown",
      "metadata": {
        "id": "c4_AaE5zkkgf",
        "colab_type": "text"
      },
      "source": [
        "#**COMANDOS DE REPETIÇÃO**\n",
        "\n",
        "\n",
        "1.   ´**WHILE -Repete comandos enquanto uma condição for verdadeira.**\n",
        "---\n",
        "While é um loop.Como um pedaço de montanha-russa\n",
        "\n",
        "ANTES  de entrar no loop o comando verifica uma condição\n",
        "SE FOR VERDADEIRA  ele realiza o bloco de comandos dentro do loop.\n",
        "REPETIDAMENTE.\n",
        "PODEMOS ADICIONAR CONDIÇÕES E PARADA FORA A EXPRESSÃO SER FALSA (BREAK)\n",
        "\n",
        "\n",
        "---\n",
        "2.  **FOR - muito semelhante ao while.**\n",
        "\n",
        "Limita na sua definição quantas vezes o loop será realizado.\n",
        "\n",
        "Uma lista será iterada. \n",
        "\n",
        "\n",
        "\n",
        "\n",
        "\n",
        "\n",
        "\n",
        "\n",
        "\n"
      ]
    },
    {
      "cell_type": "code",
      "metadata": {
        "id": "yZaQnr7uXCo3",
        "colab_type": "code",
        "colab": {
          "base_uri": "https://localhost:8080/",
          "height": 102
        },
        "outputId": "f9b267f9-9dc8-4b1b-ca1a-4e60234440c3"
      },
      "source": [
        "#Cálculo de média \n",
        "n=1\n",
        "soma=0 #inicializando as variáveis de controle \n",
        "while n <= 10 : # observe os DOIS PONTOS \n",
        "  x = float(input(\"Coloque o %dº:\" %n)) # observe a identação aqui para mostrar elementos dentro do loop\n",
        "  #%d reserva o lugar para um valor inteiro \n",
        "  #%n indica qual valor será colocado\n",
        "  soma = soma + x \n",
        "  n = n+1 \n",
        "  if x == 0 : #condição de parada \n",
        "    media = soma / (n - 1) # se o usuario inseriu menos de 10 numeros o n é o ZERO para sair do loop\n",
        "    break \n",
        "  else : #caso o usuario nao tenha solicitado parada  n=10 e foram add 10 numeros\n",
        "    media = soma / n    \n",
        "  \n",
        "print (\"A média é : %5.2f\" %media) #%5.2 formata o número de casas decimais \n",
        "#%f indica que é um float\n"
      ],
      "execution_count": 19,
      "outputs": [
        {
          "output_type": "stream",
          "text": [
            "Coloque o 1º:1\n",
            "Coloque o 2º:2\n",
            "Coloque o 3º:3\n",
            "Coloque o 4º:0\n",
            "A média é :  1.20\n"
          ],
          "name": "stdout"
        }
      ]
    },
    {
      "cell_type": "code",
      "metadata": {
        "id": "xSBSemypnlGJ",
        "colab_type": "code",
        "colab": {
          "base_uri": "https://localhost:8080/",
          "height": 119
        },
        "outputId": "440e1d7a-cb21-40c5-87ae-d4af8116b3f0"
      },
      "source": [
        "#Tabela de descontos com for \n",
        "preco = float(input(\"Qual o valor do produto? R$ \") )\n",
        "for desconto in range(5,30,5):\n",
        "  novo_preco =  (1-(desconto/100)) * preco\n",
        "  print(\"Com desconto de %d\" %desconto,\"%,\",\"o produto sai a:R$\",novo_preco)"
      ],
      "execution_count": 32,
      "outputs": [
        {
          "output_type": "stream",
          "text": [
            "Qual o valor do produto? R$ 10\n",
            "Com desconto de 5 %, o produto sai a:R$ 9.5\n",
            "Com desconto de 10 %, o produto sai a:R$ 9.0\n",
            "Com desconto de 15 %, o produto sai a:R$ 8.5\n",
            "Com desconto de 20 %, o produto sai a:R$ 8.0\n",
            "Com desconto de 25 %, o produto sai a:R$ 7.5\n"
          ],
          "name": "stdout"
        }
      ]
    },
    {
      "cell_type": "markdown",
      "metadata": {
        "id": "CvA3zO21fQyC",
        "colab_type": "text"
      },
      "source": [
        "# COMANDOS DE CONDIÇÃO \n",
        "\n",
        "\n",
        "1.   IF - \n",
        "\n",
        "Nem todas as linhas do código precisam ser rodadas.\n",
        "\n",
        "Você pode definir quais partes precisam ser rodadas para alcançar certos objetivos.\n",
        "\n",
        "Para isso usamos estruturas condicionais como If , else e elif\n",
        "\n",
        "\n"
      ]
    },
    {
      "cell_type": "code",
      "metadata": {
        "id": "ggPLIwEnfnzF",
        "colab_type": "code",
        "colab": {
          "base_uri": "https://localhost:8080/",
          "height": 119
        },
        "outputId": "a6811c81-6fc0-49ad-cd38-0424cea6eab2"
      },
      "source": [
        "#Condicional básico\n",
        "\n",
        "var_1 = int(input(\"Coloque o valor da primeira variavel:\"))\n",
        "var_2 = int(input(\"Coloque o valor da segunda variavel:\"))\n",
        "if(var_1 > var_2):\n",
        "  for i in range(2,10,2): # 2 a 10 com passo 2 \n",
        "    print(i)\n",
        "else:\n",
        "  i = 2"
      ],
      "execution_count": 20,
      "outputs": [
        {
          "output_type": "stream",
          "text": [
            "Coloque o valor da primeira variavel:2\n",
            "Coloque o valor da segunda variavel:1\n",
            "2\n",
            "4\n",
            "6\n",
            "8\n"
          ],
          "name": "stdout"
        }
      ]
    }
  ]
}